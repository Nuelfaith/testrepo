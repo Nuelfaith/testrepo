{
 "cells": [
  {
   "cell_type": "markdown",
   "id": "d2987d3a",
   "metadata": {},
   "source": [
    "# Data Science Tools and Ecosystem #"
   ]
  },
  {
   "cell_type": "markdown",
   "id": "cf77af59",
   "metadata": {},
   "source": [
    "## In this notebook, Data Science Tools and Ecosystem are summarized. ##"
   ]
  },
  {
   "cell_type": "markdown",
   "id": "4a9105b8",
   "metadata": {},
   "source": [
    "**Objectives:**\n",
    "* Python\n",
    "* R\n",
    "* SQL\n",
    "* Scala\n",
    "* Julia"
   ]
  },
  {
   "cell_type": "markdown",
   "id": "f122a8b3",
   "metadata": {},
   "source": [
    "## Some of the popular languages that Data Scientists use are: \n",
    "1. Python\n",
    "2. R\n",
    "3. Julia\n",
    "4. Scala\n",
    "5. SQL"
   ]
  },
  {
   "cell_type": "markdown",
   "id": "0d948a9e",
   "metadata": {},
   "source": [
    "## Some of the commonly used libraries used by Data Scientists include:\n",
    "1. Pandas\n",
    "2. Numpy\n",
    "3. Matplotlib\n",
    "4. Vegas\n",
    "5. ggplot2\n",
    "6. Scikit-learn"
   ]
  },
  {
   "cell_type": "markdown",
   "id": "c01ff829",
   "metadata": {},
   "source": [
    "|Data Science Tools|\n",
    "|------------------|\n",
    "|Jupyter           |\n",
    "|R Studio          |\n",
    "|Apache Zeppelin   |\n",
    "|Spyder            |"
   ]
  },
  {
   "cell_type": "markdown",
   "id": "83bf8bb3",
   "metadata": {},
   "source": [
    "### Below are a few examples of evaluating arithmetic expressions in Python"
   ]
  },
  {
   "cell_type": "code",
   "execution_count": 1,
   "id": "792d0b77",
   "metadata": {},
   "outputs": [
    {
     "data": {
      "text/plain": [
       "17"
      ]
     },
     "execution_count": 1,
     "metadata": {},
     "output_type": "execute_result"
    }
   ],
   "source": [
    "#This a simple arithmetic expression to mutiply then add integers\n",
    "(3*4)+5"
   ]
  },
  {
   "cell_type": "code",
   "execution_count": 2,
   "id": "63bcf6bb",
   "metadata": {},
   "outputs": [
    {
     "data": {
      "text/plain": [
       "3.3333333333333335"
      ]
     },
     "execution_count": 2,
     "metadata": {},
     "output_type": "execute_result"
    }
   ],
   "source": [
    "#This will convert 200 minutes to hours by diving by 60\n",
    "200/60"
   ]
  },
  {
   "cell_type": "markdown",
   "id": "9fe26bc3",
   "metadata": {},
   "source": [
    "## Author\n",
    "Faith Oko-oboh"
   ]
  },
  {
   "cell_type": "code",
   "execution_count": null,
   "id": "2cafcee0",
   "metadata": {},
   "outputs": [],
   "source": []
  }
 ],
 "metadata": {
  "kernelspec": {
   "display_name": "Python 3 (ipykernel)",
   "language": "python",
   "name": "python3"
  },
  "language_info": {
   "codemirror_mode": {
    "name": "ipython",
    "version": 3
   },
   "file_extension": ".py",
   "mimetype": "text/x-python",
   "name": "python",
   "nbconvert_exporter": "python",
   "pygments_lexer": "ipython3",
   "version": "3.11.5"
  }
 },
 "nbformat": 4,
 "nbformat_minor": 5
}
